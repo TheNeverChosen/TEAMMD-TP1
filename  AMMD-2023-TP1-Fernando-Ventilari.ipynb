{
 "cells": [
  {
   "cell_type": "markdown",
   "metadata": {},
   "source": [
    "# Trabalho 1\n",
    "**Nome:** Fernando Ventilari, Kristhian André Oliveira Aguilar\n",
    "**Data:** 16/10/2023"
   ]
  },
  {
   "cell_type": "markdown",
   "metadata": {},
   "source": [
    "O objetivo deste trabalho é implementar e testar os seguintes algoritmos classificadores:\n",
    "- Árvore de Decisão\n",
    "- KNN (K-Vizinhos mais Próximos)\n",
    "- Naive Bayes\n",
    "\n",
    "Para isso, foram utilizadas as seguintes bibliotecas:\n",
    "- Numpy, para manipulação de matrizes\n",
    "- Pandas, para manipulação de tabelas e séries\n",
    "- Scipy, para calcular as distâncias no KNN\n",
    "- Scikit-learn, para carregar as bases de dados de teste\n",
    "- Graphviz, para visualização da árvore de decisão"
   ]
  },
  {
   "cell_type": "markdown",
   "metadata": {},
   "source": [
    "# Importação de Bibliotecas"
   ]
  },
  {
   "cell_type": "code",
   "execution_count": 1,
   "metadata": {},
   "outputs": [],
   "source": [
    "import numpy as np\n",
    "import pandas as pd\n",
    "\n",
    "RANDOM_SEED = 42"
   ]
  },
  {
   "cell_type": "markdown",
   "metadata": {},
   "source": [
    "# Implementação"
   ]
  },
  {
   "cell_type": "markdown",
   "metadata": {},
   "source": [
    "## KNN"
   ]
  },
  {
   "cell_type": "code",
   "execution_count": 2,
   "metadata": {},
   "outputs": [],
   "source": [
    "from scipy.spatial.distance import cdist\n",
    "\n",
    "class KNearestNeighours:\n",
    "    def __init__(self, k) -> None:\n",
    "        self.k = k\n",
    "        self.X = None\n",
    "        self.y = None\n",
    "\n",
    "    def fit(self, X: np.ndarray, y: np.ndarray):\n",
    "        self.X = X\n",
    "        self.y = y\n",
    "        \n",
    "        self.unique_labels = np.unique(y)\n",
    "        \n",
    "        self.centroids = np.empty((len(self.unique_labels), self.X.shape[1]))\n",
    "        \n",
    "        for i, label in enumerate(self.unique_labels):\n",
    "            label_mask = y == label\n",
    "            self.centroids[i] = X[label_mask].mean(axis=0)\n",
    "        \n",
    "    def predict(self, X, metric='euclidean', k_means=False):\n",
    "        \n",
    "        if k_means:\n",
    "            distances = cdist(X, self.centroids, metric=metric)\n",
    "            sorting_indices = np.argsort(distances, axis=1)\n",
    "            y_pred = np.take(self.unique_labels, sorting_indices[:, 0])\n",
    "            return np.array(y_pred)\n",
    "    \n",
    "        \n",
    "        # p-norm distance between each point in X and every point in self.X\n",
    "        distances = cdist(X, self.X, metric=metric)\n",
    "\n",
    "        # get k closest points indices\n",
    "        sorting_indices = np.argsort(distances, axis=1)\n",
    "        k_points = sorting_indices[:, :self.k]\n",
    "        k_points_shape = k_points.shape\n",
    "        \n",
    "        # substitute point indices with its label\n",
    "        k_labels = np.take(self.y, k_points.flatten())\n",
    "        k_labels = np.array(k_labels).reshape(k_points_shape)\n",
    "        \n",
    "        # returns label with highest count\n",
    "        def get_label(labels):\n",
    "            label_values, counts = np.unique(labels, return_counts=True)\n",
    "            prediction = label_values[np.argmax(counts)]\n",
    "            return prediction\n",
    "\n",
    "        y_pred = np.apply_along_axis(get_label, axis=1, arr=k_labels)\n",
    "        return y_pred"
   ]
  },
  {
   "cell_type": "markdown",
   "metadata": {},
   "source": [
    "## Naive Bayes"
   ]
  },
  {
   "cell_type": "code",
   "execution_count": 6,
   "metadata": {},
   "outputs": [],
   "source": [
    "from enum import Enum\n",
    "\n",
    "class NBDataType(Enum):\n",
    "  CATEGORICAL = 0\n",
    "  GAUSSIAN = 1\n",
    "\n",
    "class NaiveBayes:\n",
    "  def __init__(self, types : list[NBDataType]):\n",
    "    self.types = types\n",
    "    self.prior = None\n",
    "    self.likelihood = None\n",
    "\n",
    "  def fit(self, X, y):\n",
    "    #USING ONLY NUMPY.NDARRAY\n",
    "    if type(X) == pd.DataFrame:\n",
    "      X = X.to_numpy()\n",
    "    if type(y) == pd.Series:\n",
    "      y = y.to_numpy()\n",
    "    if type(X) != np.ndarray or type(y) != np.ndarray:\n",
    "      raise TypeError(f\"X and y must be numpy.ndarray or pandas.DataFrame and pandas.Series, respectively\")\n",
    "\n",
    "    if len(self.types) != X.shape[1]:\n",
    "      raise TypeError(f\"The number of types passed ({len(self.types)}) does not correspond to the number of columns in the dataset ({len(features)})\")\n",
    "    \n",
    "    # calculate prior probabilities\n",
    "    labels, counts = np.unique(y, return_counts=True)\n",
    "    self.prior = dict(zip(labels, counts / len(y)))\n",
    "\n",
    "    # calculate likelihood probabilities\n",
    "    self.likelihood = {}\n",
    "\n",
    "    for label in self.prior.keys():\n",
    "      self.likelihood[label] = {}\n",
    "      for i in range(X.shape[1]):\n",
    "        if self.types[i] == NBDataType.GAUSSIAN:\n",
    "          self.likelihood[label][i] = {\n",
    "            \"mean\": X[y == label, i].mean(),\n",
    "            \"std\": X[y == label, i].std()\n",
    "          }\n",
    "        elif self.types[i] == NBDataType.CATEGORICAL:\n",
    "          self.likelihood[label][i] = np.unique(X[y == label, i], return_counts=True)[1] / len(X[y == label, i])\n",
    "        else:\n",
    "          raise TypeError(f\"Invalid type {self.types[i]}\")\n",
    "\n",
    "  def gaussian(self, x, mean, std):\n",
    "    return 1 / (np.sqrt(2 * np.pi) * std) * np.exp(-((x - mean) ** 2) / (2 * std ** 2))\n",
    "  \n",
    "  def predict_row(self, x_row):\n",
    "    # calculate posterior probabilities\n",
    "    posterior = {}\n",
    "    for label in self.prior.keys():\n",
    "      posterior[label] = self.prior[label]\n",
    "      for i in range(len(x_row)):\n",
    "        if self.types[i] == NBDataType.GAUSSIAN:\n",
    "          posterior[label] *= self.gaussian(x_row[i], self.likelihood[label][i][\"mean\"], self.likelihood[label][i][\"std\"])\n",
    "        elif self.types[i] == NBDataType.CATEGORICAL:\n",
    "          posterior[label] *= self.likelihood[label][i][x_row[i]]\n",
    "        else:\n",
    "          raise TypeError(f\"Invalid type {self.types[i]}\")\n",
    "    \n",
    "    # return the label with the highest posterior probability\n",
    "    return max(posterior, key=posterior.get)\n",
    "  \n",
    "  def predict(self, X):\n",
    "    #USING ONLY NUMPY.NDARRAY\n",
    "    if type(X) == pd.DataFrame:\n",
    "      X = X.to_numpy()\n",
    "    if type(X) != np.ndarray:\n",
    "      raise TypeError(f\"X must be numpy.ndarray or pandas.DataFrame\")\n",
    "\n",
    "    return np.array([self.predict_row(x_row) for x_row in X])"
   ]
  },
  {
   "cell_type": "markdown",
   "metadata": {},
   "source": [
    "## Árvore de Decisão"
   ]
  },
  {
   "cell_type": "markdown",
   "metadata": {},
   "source": [
    "### Base da Árvore"
   ]
  },
  {
   "cell_type": "code",
   "execution_count": 4,
   "metadata": {},
   "outputs": [],
   "source": [
    "class Leaf:\n",
    "    \"\"\"A Leaf node classifies data.\n",
    "\n",
    "    A leaf is the end of a partition in a decision tree. It holds all the labels that reached it.\n",
    "    the label used to predict an example on the leaf is the one with the highest count.\n",
    "    \"\"\"\n",
    "\n",
    "    def __init__(self, labels):\n",
    "        \n",
    "        self.predictions = dict(zip(*np.unique(labels, return_counts=True)))\n",
    "        self.prediction = max(self.predictions)\n",
    "    def __repr__(self) -> str:\n",
    "        return str(self.prediction)\n",
    "\n",
    "class DecisionNode:\n",
    "    \"\"\"A Decision Node asks a question using a feature and value of the dataset e.g \"Is petal length > 5?\".\n",
    "     The question is used to partition the dataset in two: a true branch and a false branch.\n",
    "    \"\"\"\n",
    "\n",
    "    def __init__(self,\n",
    "                 feature,\n",
    "                 value,\n",
    "                 true_branch,\n",
    "                 false_branch):\n",
    "        self.feature = feature\n",
    "        self.value = value\n",
    "        self.true_branch = true_branch\n",
    "        self.false_branch = false_branch\n",
    "    \n",
    "    def compare(self, X):\n",
    "        \"\"\"Compare the feature value in an example to the\n",
    "        feature value in this question.\"\"\"\n",
    "        val = X[self.feature]\n",
    "        if type(val) != str:\n",
    "            return val >= self.value\n",
    "        else:\n",
    "            return val == self.value"
   ]
  },
  {
   "cell_type": "markdown",
   "metadata": {},
   "source": [
    "### Funções Úteis"
   ]
  },
  {
   "cell_type": "code",
   "execution_count": 5,
   "metadata": {},
   "outputs": [],
   "source": [
    "def node_to_string(node, feature_names) -> str:\n",
    "    \"\"\"This is just a helper method to print the question in a readable format.\"\"\"\n",
    "    condition = \"==\"\n",
    "    if node.value != str:\n",
    "        condition = \">=\"\n",
    "    return f\"Is {feature_names[node.feature]} {condition} {str(node.value)}?\"\n",
    "\n",
    "def gini(array):\n",
    "    _, counts = np.unique(array, return_counts=True)\n",
    "    impurity = 1\n",
    "    \n",
    "    value_probabilities = counts / len(array)\n",
    "    impurity = 1 - np.square(value_probabilities).sum()\n",
    "    return impurity\n",
    "\n",
    "def information_gain(left, right, current_uncertainty):\n",
    "    \"\"\"Information Gain.\n",
    "\n",
    "    The uncertainty of the starting node, minus the weighted impurity of\n",
    "    two child nodes.\n",
    "    \"\"\"\n",
    "    p = float(len(left)) / (len(left) + len(right))\n",
    "    return current_uncertainty - p * gini(left) - (1 - p) * gini(right)\n",
    "\n",
    "def partition(X, y, feature, value):\n",
    "    if type(value) != str:\n",
    "        true_partition = (X[:, feature] > value)\n",
    "    else:\n",
    "        true_partition = (X[:, feature] == value)\n",
    "    \n",
    "    true_partition = true_partition.flatten()    \n",
    "\n",
    "    X_true = X[true_partition]\n",
    "    y_true = y[true_partition]\n",
    "    X_false = X[~true_partition]\n",
    "    y_false = y[~true_partition]\n",
    "    \n",
    "    return X_true, y_true, X_false, y_false\n",
    "\n",
    "def find_best_split(X, y):\n",
    "    \"\"\"\n",
    "    Tries to partition the data with every unique value of each column. \n",
    "    Returns the column and value split with with highest information gain.\n",
    "    \"\"\"\n",
    "    best_gain = 0\n",
    "    best_feature = None\n",
    "    best_value = None\n",
    "    current_uncertainty = gini(y)\n",
    "    number_features = X.shape[1]\n",
    "    \n",
    "    for feature in range(number_features):\n",
    "        for value in np.unique(X[:, feature]):\n",
    "            \n",
    "\n",
    "            X_true, y_true, X_false, y_false = partition(X, y, feature, value)\n",
    "\n",
    "            # Skips split if it doesn't divide the dataset.            \n",
    "            if len(X_true) == 0 or len(X_false) == 0:\n",
    "                continue\n",
    "            \n",
    "            # Calculates the information gain from split\n",
    "            gain = information_gain(y_true, y_false, current_uncertainty)\n",
    "            \n",
    "            if gain > best_gain:\n",
    "                best_gain, best_feature, best_value = gain, feature, value\n",
    "    return best_gain, best_feature, best_value"
   ]
  },
  {
   "cell_type": "markdown",
   "metadata": {},
   "source": [
    "### Classe principal"
   ]
  },
  {
   "cell_type": "code",
   "execution_count": 6,
   "metadata": {},
   "outputs": [],
   "source": [
    "import graphviz\n",
    "\n",
    "class DecisionTree():\n",
    "    def __init__(self) -> None:\n",
    "        self.root = None\n",
    "        self.feature_names = None\n",
    "    \n",
    "    def fit(self, X, y):\n",
    "        if type(X) == pd.DataFrame:\n",
    "            self.feature_names = X.columns\n",
    "            X = X.to_numpy()\n",
    "        else:\n",
    "            self.feature_names = range(X.shape[1])\n",
    "            \n",
    "        def build_tree(X, y):\n",
    "\n",
    "            # Partitions the dataset on every attribute,\n",
    "            # calculates the information gain,\n",
    "            # and returns the question that produces the highest gain.\n",
    "            gain, feature, value = find_best_split(X, y)\n",
    "\n",
    "            # Base case: no further info gain\n",
    "            # Since we can ask no further questions,\n",
    "            # we'll return a leaf.\n",
    "            if gain == 0:\n",
    "                return Leaf(y)\n",
    "\n",
    "            # If we reach here, we have found a useful feature / value\n",
    "            # to partition on.\n",
    "            X_true, y_true, X_false, y_false = partition(X, y, feature, value)\n",
    "\n",
    "            # Recursively build the true branch.\n",
    "            true_branch = build_tree(X_true, y_true)\n",
    "\n",
    "            # Recursively build the false branch.\n",
    "            false_branch = build_tree(X_false, y_false)\n",
    "\n",
    "            # Return a Question node.\n",
    "            # This records the best feature / value to ask at this point,\n",
    "            # as well as the branches to follow\n",
    "            # dependingo on the answer.\n",
    "            return DecisionNode(feature, value, true_branch, false_branch)\n",
    "            \n",
    "        self.root = build_tree(X,y)\n",
    "    \n",
    "    def predict(self, X):    \n",
    "        y_pred = list()\n",
    "        if type(X) == pd.DataFrame:\n",
    "            X = X.to_numpy()\n",
    "            \n",
    "        def predict_example(example, node):\n",
    "\n",
    "            # Base case: we've reached a leaf\n",
    "            if isinstance(node, Leaf):\n",
    "                return node.predictions\n",
    "\n",
    "            # Decide whether to follow the true-branch or the false-branch.\n",
    "            # Compare the feature / value stored in the node,\n",
    "            # to the example we're considering.\n",
    "            if node.compare(example):\n",
    "                return predict_example(example, node.true_branch)\n",
    "            else:\n",
    "                return predict_example(example, node.false_branch)\n",
    "        \n",
    "        for i, example in enumerate(X):\n",
    "            predictions = predict_example(example, self.root)\n",
    "            prediction = max(predictions)\n",
    "            \n",
    "            y_pred.append(prediction)\n",
    "        return y_pred\n",
    "    \n",
    "    def print_tree(self) -> str:\n",
    "        dot = graphviz.Digraph()\n",
    "        id_fn = lambda x: str(id(x))\n",
    "        dot.node(id_fn(self.root), node_to_string(self.root, self.feature_names))\n",
    "        \n",
    "        def build_graph(node):\n",
    "            \"\"\"World's most elegant tree printing function.\"\"\"\n",
    "\n",
    "            # Base case: we've reached a leaf\n",
    "            if isinstance(node, Leaf):\n",
    "                # print (spacing + \"Predict\", node.predictions)\n",
    "                return\n",
    "\n",
    "            # Print the question at this node\n",
    "            # print (spacing + node_to_string(node, feature_names))\n",
    "\n",
    "            # Call this function recursively on the true branch\n",
    "            # print (spacing + '--> True:')\n",
    "            if isinstance(node.true_branch, DecisionNode):\n",
    "                dot.node(id_fn(node.true_branch), node_to_string(node.true_branch, self.feature_names))\n",
    "                dot.edge(id_fn(node), id_fn(node.true_branch), \"True\")\n",
    "                build_graph(node.true_branch)\n",
    "            else:\n",
    "                dot.node(id_fn(node.true_branch), str(node.true_branch), shape='rectangle')\n",
    "                dot.edge(id_fn(node), id_fn(node.true_branch), \"True\")\n",
    "\n",
    "            # Call this function recursively on the false branch\n",
    "            # print (spacing + '--> False:')\n",
    "            if isinstance(node.false_branch, DecisionNode):\n",
    "                dot.node(id_fn(node.false_branch), node_to_string(node.false_branch, self.feature_names))\n",
    "                dot.edge(id_fn(node), id_fn(node.false_branch), \"False\")\n",
    "                build_graph(node.false_branch)\n",
    "            else:\n",
    "                dot.node(id_fn(node.false_branch), str(node.false_branch), shape='rectangle')\n",
    "                dot.edge(id_fn(node), id_fn(node.false_branch), \"False\")\n",
    "            \n",
    "        build_graph(self.root)\n",
    "        return dot"
   ]
  },
  {
   "cell_type": "markdown",
   "metadata": {},
   "source": [
    "# Teste dos Modelos"
   ]
  },
  {
   "cell_type": "markdown",
   "metadata": {},
   "source": [
    "## Obtenção da base de dados"
   ]
  },
  {
   "cell_type": "code",
   "execution_count": 3,
   "metadata": {},
   "outputs": [],
   "source": [
    "from sklearn.datasets import load_iris\n",
    "from sklearn.model_selection import train_test_split\n",
    "from sklearn.metrics import accuracy_score\n",
    "\n",
    "X, y = load_iris(return_X_y=True, as_frame=False)"
   ]
  },
  {
   "cell_type": "markdown",
   "metadata": {},
   "source": [
    "## Divisão de treino e teste"
   ]
  },
  {
   "cell_type": "code",
   "execution_count": 4,
   "metadata": {},
   "outputs": [],
   "source": [
    "X_train, X_test, y_train, y_test = train_test_split(X, y, train_size=0.8, random_state=RANDOM_SEED)"
   ]
  },
  {
   "cell_type": "markdown",
   "metadata": {},
   "source": [
    "## Árvore de Decisão"
   ]
  },
  {
   "cell_type": "markdown",
   "metadata": {},
   "source": [
    "A nossa árvore de decisão suporta tanto atributos numéricos quanto atributos catégoricos na mesma base."
   ]
  },
  {
   "cell_type": "code",
   "execution_count": 9,
   "metadata": {},
   "outputs": [],
   "source": [
    "from sklearn.tree import DecisionTreeClassifier as SKLDecisionTree\n",
    "from sklearn.tree import plot_tree"
   ]
  },
  {
   "cell_type": "code",
   "execution_count": 10,
   "metadata": {},
   "outputs": [],
   "source": [
    "my_tree = DecisionTree()\n",
    "my_tree.fit(X_train, y_train)\n",
    "\n",
    "sklearn_tree = SKLDecisionTree(random_state=RANDOM_SEED)\n",
    "sklearn_tree.fit(X_train, y_train);"
   ]
  },
  {
   "cell_type": "code",
   "execution_count": 11,
   "metadata": {},
   "outputs": [
    {
     "name": "stdout",
     "output_type": "stream",
     "text": [
      "Nossa árvore de decisão: 100.00%\n",
      "Árvore de decisão do sklearn: 100.00%\n"
     ]
    }
   ],
   "source": [
    "y_pred = my_tree.predict(X_test)\n",
    "print(f\"Nossa árvore de decisão: {accuracy_score(y_test, y_pred)*100:.2f}%\")\n",
    "\n",
    "y_pred = sklearn_tree.predict(X_test)\n",
    "print(f\"Árvore de decisão do sklearn: {accuracy_score(y_test, y_pred)*100:.2f}%\")"
   ]
  },
  {
   "cell_type": "markdown",
   "metadata": {},
   "source": [
    "### Gráficos das árvores"
   ]
  },
  {
   "cell_type": "code",
   "execution_count": 12,
   "metadata": {},
   "outputs": [
    {
     "data": {
      "image/svg+xml": [
       "<?xml version=\"1.0\" encoding=\"UTF-8\" standalone=\"no\"?>\n",
       "<!DOCTYPE svg PUBLIC \"-//W3C//DTD SVG 1.1//EN\"\n",
       " \"http://www.w3.org/Graphics/SVG/1.1/DTD/svg11.dtd\">\n",
       "<!-- Generated by graphviz version 2.43.0 (0)\n",
       " -->\n",
       "<!-- Title: %3 Pages: 1 -->\n",
       "<svg width=\"464pt\" height=\"566pt\"\n",
       " viewBox=\"0.00 0.00 464.00 566.00\" xmlns=\"http://www.w3.org/2000/svg\" xmlns:xlink=\"http://www.w3.org/1999/xlink\">\n",
       "<g id=\"graph0\" class=\"graph\" transform=\"scale(1 1) rotate(0) translate(4 562)\">\n",
       "<title>%3</title>\n",
       "<polygon fill=\"white\" stroke=\"transparent\" points=\"-4,4 -4,-562 460,-562 460,4 -4,4\"/>\n",
       "<!-- 140307732318192 -->\n",
       "<g id=\"node1\" class=\"node\">\n",
       "<title>140307732318192</title>\n",
       "<ellipse fill=\"none\" stroke=\"black\" cx=\"350\" cy=\"-540\" rx=\"54.69\" ry=\"18\"/>\n",
       "<text text-anchor=\"middle\" x=\"350\" y=\"-536.3\" font-family=\"Times,serif\" font-size=\"14.00\">Is 2 &gt;= 1.9?</text>\n",
       "</g>\n",
       "<!-- 140307732318144 -->\n",
       "<g id=\"node2\" class=\"node\">\n",
       "<title>140307732318144</title>\n",
       "<ellipse fill=\"none\" stroke=\"black\" cx=\"300\" cy=\"-453\" rx=\"54.69\" ry=\"18\"/>\n",
       "<text text-anchor=\"middle\" x=\"300\" y=\"-449.3\" font-family=\"Times,serif\" font-size=\"14.00\">Is 2 &gt;= 4.7?</text>\n",
       "</g>\n",
       "<!-- 140307732318192&#45;&gt;140307732318144 -->\n",
       "<g id=\"edge1\" class=\"edge\">\n",
       "<title>140307732318192&#45;&gt;140307732318144</title>\n",
       "<path fill=\"none\" stroke=\"black\" d=\"M340.12,-522.21C333,-510.1 323.25,-493.53 315.15,-479.76\"/>\n",
       "<polygon fill=\"black\" stroke=\"black\" points=\"317.94,-477.6 309.86,-470.76 311.91,-481.15 317.94,-477.6\"/>\n",
       "<text text-anchor=\"middle\" x=\"341\" y=\"-492.8\" font-family=\"Times,serif\" font-size=\"14.00\">True</text>\n",
       "</g>\n",
       "<!-- 140307732317280 -->\n",
       "<g id=\"node19\" class=\"node\">\n",
       "<title>140307732317280</title>\n",
       "<polygon fill=\"none\" stroke=\"black\" points=\"427,-471 373,-471 373,-435 427,-435 427,-471\"/>\n",
       "<text text-anchor=\"middle\" x=\"400\" y=\"-449.3\" font-family=\"Times,serif\" font-size=\"14.00\">0</text>\n",
       "</g>\n",
       "<!-- 140307732318192&#45;&gt;140307732317280 -->\n",
       "<g id=\"edge18\" class=\"edge\">\n",
       "<title>140307732318192&#45;&gt;140307732317280</title>\n",
       "<path fill=\"none\" stroke=\"black\" d=\"M359.88,-522.21C366.95,-510.18 376.62,-493.75 384.69,-480.03\"/>\n",
       "<polygon fill=\"black\" stroke=\"black\" points=\"387.92,-481.44 389.97,-471.05 381.88,-477.89 387.92,-481.44\"/>\n",
       "<text text-anchor=\"middle\" x=\"392.5\" y=\"-492.8\" font-family=\"Times,serif\" font-size=\"14.00\">False</text>\n",
       "</g>\n",
       "<!-- 140307732318912 -->\n",
       "<g id=\"node3\" class=\"node\">\n",
       "<title>140307732318912</title>\n",
       "<ellipse fill=\"none\" stroke=\"black\" cx=\"237\" cy=\"-366\" rx=\"54.69\" ry=\"18\"/>\n",
       "<text text-anchor=\"middle\" x=\"237\" y=\"-362.3\" font-family=\"Times,serif\" font-size=\"14.00\">Is 3 &gt;= 1.7?</text>\n",
       "</g>\n",
       "<!-- 140307732318144&#45;&gt;140307732318912 -->\n",
       "<g id=\"edge2\" class=\"edge\">\n",
       "<title>140307732318144&#45;&gt;140307732318912</title>\n",
       "<path fill=\"none\" stroke=\"black\" d=\"M287.55,-435.21C278.41,-422.87 265.83,-405.89 255.51,-391.97\"/>\n",
       "<polygon fill=\"black\" stroke=\"black\" points=\"258.19,-389.71 249.42,-383.76 252.56,-393.88 258.19,-389.71\"/>\n",
       "<text text-anchor=\"middle\" x=\"286\" y=\"-405.8\" font-family=\"Times,serif\" font-size=\"14.00\">True</text>\n",
       "</g>\n",
       "<!-- 140307732318336 -->\n",
       "<g id=\"node16\" class=\"node\">\n",
       "<title>140307732318336</title>\n",
       "<ellipse fill=\"none\" stroke=\"black\" cx=\"364\" cy=\"-366\" rx=\"54.69\" ry=\"18\"/>\n",
       "<text text-anchor=\"middle\" x=\"364\" y=\"-362.3\" font-family=\"Times,serif\" font-size=\"14.00\">Is 3 &gt;= 1.6?</text>\n",
       "</g>\n",
       "<!-- 140307732318144&#45;&gt;140307732318336 -->\n",
       "<g id=\"edge15\" class=\"edge\">\n",
       "<title>140307732318144&#45;&gt;140307732318336</title>\n",
       "<path fill=\"none\" stroke=\"black\" d=\"M312.64,-435.21C321.94,-422.87 334.72,-405.89 345.2,-391.97\"/>\n",
       "<polygon fill=\"black\" stroke=\"black\" points=\"348.16,-393.85 351.38,-383.76 342.57,-389.64 348.16,-393.85\"/>\n",
       "<text text-anchor=\"middle\" x=\"350.5\" y=\"-405.8\" font-family=\"Times,serif\" font-size=\"14.00\">False</text>\n",
       "</g>\n",
       "<!-- 140304943039104 -->\n",
       "<g id=\"node4\" class=\"node\">\n",
       "<title>140304943039104</title>\n",
       "<ellipse fill=\"none\" stroke=\"black\" cx=\"127\" cy=\"-279\" rx=\"54.69\" ry=\"18\"/>\n",
       "<text text-anchor=\"middle\" x=\"127\" y=\"-275.3\" font-family=\"Times,serif\" font-size=\"14.00\">Is 2 &gt;= 4.8?</text>\n",
       "</g>\n",
       "<!-- 140307732318912&#45;&gt;140304943039104 -->\n",
       "<g id=\"edge3\" class=\"edge\">\n",
       "<title>140307732318912&#45;&gt;140304943039104</title>\n",
       "<path fill=\"none\" stroke=\"black\" d=\"M216.57,-349.21C199.47,-336 174.86,-316.99 155.77,-302.23\"/>\n",
       "<polygon fill=\"black\" stroke=\"black\" points=\"157.75,-299.34 147.7,-295.99 153.47,-304.88 157.75,-299.34\"/>\n",
       "<text text-anchor=\"middle\" x=\"202\" y=\"-318.8\" font-family=\"Times,serif\" font-size=\"14.00\">True</text>\n",
       "</g>\n",
       "<!-- 140307732317856 -->\n",
       "<g id=\"node9\" class=\"node\">\n",
       "<title>140307732317856</title>\n",
       "<ellipse fill=\"none\" stroke=\"black\" cx=\"254\" cy=\"-279\" rx=\"54.69\" ry=\"18\"/>\n",
       "<text text-anchor=\"middle\" x=\"254\" y=\"-275.3\" font-family=\"Times,serif\" font-size=\"14.00\">Is 2 &gt;= 4.9?</text>\n",
       "</g>\n",
       "<!-- 140307732318912&#45;&gt;140307732317856 -->\n",
       "<g id=\"edge8\" class=\"edge\">\n",
       "<title>140307732318912&#45;&gt;140307732317856</title>\n",
       "<path fill=\"none\" stroke=\"black\" d=\"M240.44,-347.8C242.77,-336.16 245.89,-320.55 248.55,-307.24\"/>\n",
       "<polygon fill=\"black\" stroke=\"black\" points=\"252.04,-307.67 250.56,-297.18 245.17,-306.29 252.04,-307.67\"/>\n",
       "<text text-anchor=\"middle\" x=\"261.5\" y=\"-318.8\" font-family=\"Times,serif\" font-size=\"14.00\">False</text>\n",
       "</g>\n",
       "<!-- 140307740871744 -->\n",
       "<g id=\"node5\" class=\"node\">\n",
       "<title>140307740871744</title>\n",
       "<polygon fill=\"none\" stroke=\"black\" points=\"54,-210 0,-210 0,-174 54,-174 54,-210\"/>\n",
       "<text text-anchor=\"middle\" x=\"27\" y=\"-188.3\" font-family=\"Times,serif\" font-size=\"14.00\">2</text>\n",
       "</g>\n",
       "<!-- 140304943039104&#45;&gt;140307740871744 -->\n",
       "<g id=\"edge4\" class=\"edge\">\n",
       "<title>140304943039104&#45;&gt;140307740871744</title>\n",
       "<path fill=\"none\" stroke=\"black\" d=\"M108.19,-262.01C93.22,-249.28 72.02,-231.27 55.05,-216.84\"/>\n",
       "<polygon fill=\"black\" stroke=\"black\" points=\"56.98,-213.89 47.1,-210.08 52.45,-219.23 56.98,-213.89\"/>\n",
       "<text text-anchor=\"middle\" x=\"96\" y=\"-231.8\" font-family=\"Times,serif\" font-size=\"14.00\">True</text>\n",
       "</g>\n",
       "<!-- 140304943046608 -->\n",
       "<g id=\"node6\" class=\"node\">\n",
       "<title>140304943046608</title>\n",
       "<ellipse fill=\"none\" stroke=\"black\" cx=\"127\" cy=\"-192\" rx=\"54.69\" ry=\"18\"/>\n",
       "<text text-anchor=\"middle\" x=\"127\" y=\"-188.3\" font-family=\"Times,serif\" font-size=\"14.00\">Is 0 &gt;= 5.9?</text>\n",
       "</g>\n",
       "<!-- 140304943039104&#45;&gt;140304943046608 -->\n",
       "<g id=\"edge5\" class=\"edge\">\n",
       "<title>140304943039104&#45;&gt;140304943046608</title>\n",
       "<path fill=\"none\" stroke=\"black\" d=\"M127,-260.8C127,-249.16 127,-233.55 127,-220.24\"/>\n",
       "<polygon fill=\"black\" stroke=\"black\" points=\"130.5,-220.18 127,-210.18 123.5,-220.18 130.5,-220.18\"/>\n",
       "<text text-anchor=\"middle\" x=\"141.5\" y=\"-231.8\" font-family=\"Times,serif\" font-size=\"14.00\">False</text>\n",
       "</g>\n",
       "<!-- 140304943046128 -->\n",
       "<g id=\"node7\" class=\"node\">\n",
       "<title>140304943046128</title>\n",
       "<polygon fill=\"none\" stroke=\"black\" points=\"89,-123 35,-123 35,-87 89,-87 89,-123\"/>\n",
       "<text text-anchor=\"middle\" x=\"62\" y=\"-101.3\" font-family=\"Times,serif\" font-size=\"14.00\">2</text>\n",
       "</g>\n",
       "<!-- 140304943046608&#45;&gt;140304943046128 -->\n",
       "<g id=\"edge6\" class=\"edge\">\n",
       "<title>140304943046608&#45;&gt;140304943046128</title>\n",
       "<path fill=\"none\" stroke=\"black\" d=\"M114.16,-174.21C104.78,-161.95 91.91,-145.11 81.3,-131.24\"/>\n",
       "<polygon fill=\"black\" stroke=\"black\" points=\"83.89,-128.87 75.04,-123.05 78.33,-133.12 83.89,-128.87\"/>\n",
       "<text text-anchor=\"middle\" x=\"112\" y=\"-144.8\" font-family=\"Times,serif\" font-size=\"14.00\">True</text>\n",
       "</g>\n",
       "<!-- 140304943046512 -->\n",
       "<g id=\"node8\" class=\"node\">\n",
       "<title>140304943046512</title>\n",
       "<polygon fill=\"none\" stroke=\"black\" points=\"161,-123 107,-123 107,-87 161,-87 161,-123\"/>\n",
       "<text text-anchor=\"middle\" x=\"134\" y=\"-101.3\" font-family=\"Times,serif\" font-size=\"14.00\">1</text>\n",
       "</g>\n",
       "<!-- 140304943046608&#45;&gt;140304943046512 -->\n",
       "<g id=\"edge7\" class=\"edge\">\n",
       "<title>140304943046608&#45;&gt;140304943046512</title>\n",
       "<path fill=\"none\" stroke=\"black\" d=\"M128.42,-173.8C129.37,-162.16 130.66,-146.55 131.76,-133.24\"/>\n",
       "<polygon fill=\"black\" stroke=\"black\" points=\"135.25,-133.43 132.59,-123.18 128.28,-132.85 135.25,-133.43\"/>\n",
       "<text text-anchor=\"middle\" x=\"145.5\" y=\"-144.8\" font-family=\"Times,serif\" font-size=\"14.00\">False</text>\n",
       "</g>\n",
       "<!-- 140307732317424 -->\n",
       "<g id=\"node10\" class=\"node\">\n",
       "<title>140307732317424</title>\n",
       "<ellipse fill=\"none\" stroke=\"black\" cx=\"254\" cy=\"-192\" rx=\"54.69\" ry=\"18\"/>\n",
       "<text text-anchor=\"middle\" x=\"254\" y=\"-188.3\" font-family=\"Times,serif\" font-size=\"14.00\">Is 3 &gt;= 1.5?</text>\n",
       "</g>\n",
       "<!-- 140307732317856&#45;&gt;140307732317424 -->\n",
       "<g id=\"edge9\" class=\"edge\">\n",
       "<title>140307732317856&#45;&gt;140307732317424</title>\n",
       "<path fill=\"none\" stroke=\"black\" d=\"M254,-260.8C254,-249.16 254,-233.55 254,-220.24\"/>\n",
       "<polygon fill=\"black\" stroke=\"black\" points=\"257.5,-220.18 254,-210.18 250.5,-220.18 257.5,-220.18\"/>\n",
       "<text text-anchor=\"middle\" x=\"267\" y=\"-231.8\" font-family=\"Times,serif\" font-size=\"14.00\">True</text>\n",
       "</g>\n",
       "<!-- 140307732317904 -->\n",
       "<g id=\"node15\" class=\"node\">\n",
       "<title>140307732317904</title>\n",
       "<polygon fill=\"none\" stroke=\"black\" points=\"381,-210 327,-210 327,-174 381,-174 381,-210\"/>\n",
       "<text text-anchor=\"middle\" x=\"354\" y=\"-188.3\" font-family=\"Times,serif\" font-size=\"14.00\">1</text>\n",
       "</g>\n",
       "<!-- 140307732317856&#45;&gt;140307732317904 -->\n",
       "<g id=\"edge14\" class=\"edge\">\n",
       "<title>140307732317856&#45;&gt;140307732317904</title>\n",
       "<path fill=\"none\" stroke=\"black\" d=\"M272.81,-262.01C287.78,-249.28 308.98,-231.27 325.95,-216.84\"/>\n",
       "<polygon fill=\"black\" stroke=\"black\" points=\"328.55,-219.23 333.9,-210.08 324.02,-213.89 328.55,-219.23\"/>\n",
       "<text text-anchor=\"middle\" x=\"324.5\" y=\"-231.8\" font-family=\"Times,serif\" font-size=\"14.00\">False</text>\n",
       "</g>\n",
       "<!-- 140304943039056 -->\n",
       "<g id=\"node11\" class=\"node\">\n",
       "<title>140304943039056</title>\n",
       "<ellipse fill=\"none\" stroke=\"black\" cx=\"247\" cy=\"-105\" rx=\"54.69\" ry=\"18\"/>\n",
       "<text text-anchor=\"middle\" x=\"247\" y=\"-101.3\" font-family=\"Times,serif\" font-size=\"14.00\">Is 0 &gt;= 6.7?</text>\n",
       "</g>\n",
       "<!-- 140307732317424&#45;&gt;140304943039056 -->\n",
       "<g id=\"edge10\" class=\"edge\">\n",
       "<title>140307732317424&#45;&gt;140304943039056</title>\n",
       "<path fill=\"none\" stroke=\"black\" d=\"M252.58,-173.8C251.63,-162.16 250.34,-146.55 249.24,-133.24\"/>\n",
       "<polygon fill=\"black\" stroke=\"black\" points=\"252.72,-132.85 248.41,-123.18 245.75,-133.43 252.72,-132.85\"/>\n",
       "<text text-anchor=\"middle\" x=\"264\" y=\"-144.8\" font-family=\"Times,serif\" font-size=\"14.00\">True</text>\n",
       "</g>\n",
       "<!-- 140307732317808 -->\n",
       "<g id=\"node14\" class=\"node\">\n",
       "<title>140307732317808</title>\n",
       "<polygon fill=\"none\" stroke=\"black\" points=\"374,-123 320,-123 320,-87 374,-87 374,-123\"/>\n",
       "<text text-anchor=\"middle\" x=\"347\" y=\"-101.3\" font-family=\"Times,serif\" font-size=\"14.00\">2</text>\n",
       "</g>\n",
       "<!-- 140307732317424&#45;&gt;140307732317808 -->\n",
       "<g id=\"edge13\" class=\"edge\">\n",
       "<title>140307732317424&#45;&gt;140307732317808</title>\n",
       "<path fill=\"none\" stroke=\"black\" d=\"M271.93,-174.61C285.69,-162.04 304.88,-144.49 320.42,-130.29\"/>\n",
       "<polygon fill=\"black\" stroke=\"black\" points=\"323.15,-132.54 328.17,-123.21 318.42,-127.38 323.15,-132.54\"/>\n",
       "<text text-anchor=\"middle\" x=\"321.5\" y=\"-144.8\" font-family=\"Times,serif\" font-size=\"14.00\">False</text>\n",
       "</g>\n",
       "<!-- 140304943039008 -->\n",
       "<g id=\"node12\" class=\"node\">\n",
       "<title>140304943039008</title>\n",
       "<polygon fill=\"none\" stroke=\"black\" points=\"238,-36 184,-36 184,0 238,0 238,-36\"/>\n",
       "<text text-anchor=\"middle\" x=\"211\" y=\"-14.3\" font-family=\"Times,serif\" font-size=\"14.00\">2</text>\n",
       "</g>\n",
       "<!-- 140304943039056&#45;&gt;140304943039008 -->\n",
       "<g id=\"edge11\" class=\"edge\">\n",
       "<title>140304943039056&#45;&gt;140304943039008</title>\n",
       "<path fill=\"none\" stroke=\"black\" d=\"M239.71,-86.8C234.69,-74.93 227.91,-58.93 222.2,-45.45\"/>\n",
       "<polygon fill=\"black\" stroke=\"black\" points=\"225.4,-44.02 218.27,-36.18 218.95,-46.75 225.4,-44.02\"/>\n",
       "<text text-anchor=\"middle\" x=\"245\" y=\"-57.8\" font-family=\"Times,serif\" font-size=\"14.00\">True</text>\n",
       "</g>\n",
       "<!-- 140304943038960 -->\n",
       "<g id=\"node13\" class=\"node\">\n",
       "<title>140304943038960</title>\n",
       "<polygon fill=\"none\" stroke=\"black\" points=\"310,-36 256,-36 256,0 310,0 310,-36\"/>\n",
       "<text text-anchor=\"middle\" x=\"283\" y=\"-14.3\" font-family=\"Times,serif\" font-size=\"14.00\">1</text>\n",
       "</g>\n",
       "<!-- 140304943039056&#45;&gt;140304943038960 -->\n",
       "<g id=\"edge12\" class=\"edge\">\n",
       "<title>140304943039056&#45;&gt;140304943038960</title>\n",
       "<path fill=\"none\" stroke=\"black\" d=\"M254.29,-86.8C259.31,-74.93 266.09,-58.93 271.8,-45.45\"/>\n",
       "<polygon fill=\"black\" stroke=\"black\" points=\"275.05,-46.75 275.73,-36.18 268.6,-44.02 275.05,-46.75\"/>\n",
       "<text text-anchor=\"middle\" x=\"282.5\" y=\"-57.8\" font-family=\"Times,serif\" font-size=\"14.00\">False</text>\n",
       "</g>\n",
       "<!-- 140307732318720 -->\n",
       "<g id=\"node17\" class=\"node\">\n",
       "<title>140307732318720</title>\n",
       "<polygon fill=\"none\" stroke=\"black\" points=\"384,-297 330,-297 330,-261 384,-261 384,-297\"/>\n",
       "<text text-anchor=\"middle\" x=\"357\" y=\"-275.3\" font-family=\"Times,serif\" font-size=\"14.00\">2</text>\n",
       "</g>\n",
       "<!-- 140307732318336&#45;&gt;140307732318720 -->\n",
       "<g id=\"edge16\" class=\"edge\">\n",
       "<title>140307732318336&#45;&gt;140307732318720</title>\n",
       "<path fill=\"none\" stroke=\"black\" d=\"M362.58,-347.8C361.63,-336.16 360.34,-320.55 359.24,-307.24\"/>\n",
       "<polygon fill=\"black\" stroke=\"black\" points=\"362.72,-306.85 358.41,-297.18 355.75,-307.43 362.72,-306.85\"/>\n",
       "<text text-anchor=\"middle\" x=\"374\" y=\"-318.8\" font-family=\"Times,serif\" font-size=\"14.00\">True</text>\n",
       "</g>\n",
       "<!-- 140307732318864 -->\n",
       "<g id=\"node18\" class=\"node\">\n",
       "<title>140307732318864</title>\n",
       "<polygon fill=\"none\" stroke=\"black\" points=\"456,-297 402,-297 402,-261 456,-261 456,-297\"/>\n",
       "<text text-anchor=\"middle\" x=\"429\" y=\"-275.3\" font-family=\"Times,serif\" font-size=\"14.00\">1</text>\n",
       "</g>\n",
       "<!-- 140307732318336&#45;&gt;140307732318864 -->\n",
       "<g id=\"edge17\" class=\"edge\">\n",
       "<title>140307732318336&#45;&gt;140307732318864</title>\n",
       "<path fill=\"none\" stroke=\"black\" d=\"M376.93,-348.28C381.4,-342.5 386.43,-335.97 391,-330 397.13,-321.99 403.8,-313.24 409.81,-305.33\"/>\n",
       "<polygon fill=\"black\" stroke=\"black\" points=\"412.76,-307.23 416.02,-297.15 407.18,-303 412.76,-307.23\"/>\n",
       "<text text-anchor=\"middle\" x=\"416.5\" y=\"-318.8\" font-family=\"Times,serif\" font-size=\"14.00\">False</text>\n",
       "</g>\n",
       "</g>\n",
       "</svg>\n"
      ],
      "text/plain": [
       "<graphviz.graphs.Digraph at 0x7f9bf08b4d30>"
      ]
     },
     "execution_count": 12,
     "metadata": {},
     "output_type": "execute_result"
    }
   ],
   "source": [
    "my_tree.print_tree()"
   ]
  },
  {
   "cell_type": "code",
   "execution_count": 13,
   "metadata": {},
   "outputs": [
    {
     "data": {
      "image/png": "[encoded data removed]",
      "text/plain": [
       "<Figure size 640x480 with 1 Axes>"
      ]
     },
     "metadata": {},
     "output_type": "display_data"
    }
   ],
   "source": [
    "plot_tree(sklearn_tree);"
   ]
  },
  {
   "cell_type": "markdown",
   "metadata": {},
   "source": [
    "## Naive Bayes"
   ]
  },
  {
   "cell_type": "code",
   "execution_count": 7,
   "metadata": {},
   "outputs": [],
   "source": [
    "from sklearn.naive_bayes import GaussianNB\n",
    "\n",
    "my_naive_bayes = NaiveBayes(types=[NBDataType.GAUSSIAN, NBDataType.GAUSSIAN, NBDataType.GAUSSIAN, NBDataType.GAUSSIAN])\n",
    "my_naive_bayes.fit(X_train, y_train)\n",
    "\n",
    "sklearn_naive_bayes = GaussianNB()\n",
    "sklearn_naive_bayes.fit(X_train, y_train);"
   ]
  },
  {
   "cell_type": "code",
   "execution_count": 9,
   "metadata": {},
   "outputs": [
    {
     "name": "stdout",
     "output_type": "stream",
     "text": [
      "Nosso Naive Bayes: 100.00%\n",
      "Naive Bayes sklearn: 100.00%\n"
     ]
    }
   ],
   "source": [
    "y_pred = my_naive_bayes.predict(X_test)\n",
    "print(f\"Nosso Naive Bayes: {accuracy_score(y_test, y_pred)*100:.2f}%\")\n",
    "\n",
    "y_pred = sklearn_naive_bayes.predict(X_test)\n",
    "print(f\"Naive Bayes sklearn: {accuracy_score(y_test, y_pred)*100:.2f}%\")"
   ]
  },
  {
   "cell_type": "markdown",
   "metadata": {},
   "source": [
    "## KNN"
   ]
  },
  {
   "cell_type": "code",
   "execution_count": 16,
   "metadata": {},
   "outputs": [],
   "source": [
    "from sklearn.neighbors import KNeighborsClassifier\n",
    "\n",
    "my_knn = KNearestNeighours(3)\n",
    "sklearn_knn = KNeighborsClassifier(3)\n",
    "\n",
    "my_knn.fit(X_train, y_train)\n",
    "sklearn_knn.fit(X_train, y_train);"
   ]
  },
  {
   "cell_type": "code",
   "execution_count": 17,
   "metadata": {},
   "outputs": [
    {
     "name": "stdout",
     "output_type": "stream",
     "text": [
      "Nosso KNN: 100.00%\n",
      "KNN do sklearn: 100.00%\n"
     ]
    }
   ],
   "source": [
    "y_pred = my_knn.predict(X_test)\n",
    "print(f\"Nosso KNN: {accuracy_score(y_test, y_pred)*100:.2f}%\")\n",
    "\n",
    "y_pred = sklearn_knn.predict(X_test)\n",
    "print(f\"KNN do sklearn: {accuracy_score(y_test, y_pred)*100:.2f}%\")"
   ]
  },
  {
   "cell_type": "markdown",
   "metadata": {},
   "source": [
    "### K-Means"
   ]
  },
  {
   "cell_type": "code",
   "execution_count": 18,
   "metadata": {},
   "outputs": [],
   "source": [
    "from sklearn.cluster import KMeans\n",
    "\n",
    "sklearn_kmeans = KMeans(n_clusters=len(np.unique(y)), n_init='auto', random_state=RANDOM_SEED);\n",
    "sklearn_kmeans.fit(X_train);"
   ]
  },
  {
   "cell_type": "code",
   "execution_count": 19,
   "metadata": {},
   "outputs": [
    {
     "name": "stdout",
     "output_type": "stream",
     "text": [
      "Nosso K-Means: 96.67%\n",
      "K-Means do sklearn: 36.67%\n"
     ]
    }
   ],
   "source": [
    "y_pred = my_knn.predict(X_test, k_means=True)\n",
    "print(f\"Nosso K-Means: {accuracy_score(y_test, y_pred)*100:.2f}%\")\n",
    "\n",
    "y_pred = sklearn_kmeans.predict(X_test)\n",
    "print(f\"K-Means do sklearn: {accuracy_score(y_test, y_pred)*100:.2f}%\")"
   ]
  }
 ],
 "metadata": {
  "kernelspec": {
   "display_name": "Python 3 (ipykernel)",
   "language": "python",
   "name": "python3"
  },
  "language_info": {
   "codemirror_mode": {
    "name": "ipython",
    "version": 3
   },
   "file_extension": ".py",
   "mimetype": "text/x-python",
   "name": "python",
   "nbconvert_exporter": "python",
   "pygments_lexer": "ipython3",
   "version": "3.11.5"
  }
 },
 "nbformat": 4,
 "nbformat_minor": 2
}
